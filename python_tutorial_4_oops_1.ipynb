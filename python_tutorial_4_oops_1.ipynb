{
 "cells": [
  {
   "cell_type": "code",
   "execution_count": 7,
   "id": "4db2ba74",
   "metadata": {},
   "outputs": [],
   "source": [
    "class Phone:\n",
    "    Brand = \"Samsung\"\n",
    "    Model = \"S15\"\n",
    "    Color = \"Blue\"\n",
    "    OS = \"Android\"\n",
    "    Ram = \"8GB\""
   ]
  },
  {
   "cell_type": "code",
   "execution_count": 8,
   "id": "1b13ffa4",
   "metadata": {},
   "outputs": [
    {
     "data": {
      "text/plain": [
       "'Samsung'"
      ]
     },
     "execution_count": 8,
     "metadata": {},
     "output_type": "execute_result"
    }
   ],
   "source": [
    "MyPhone = Phone()\n",
    "MyPhone.Brand"
   ]
  },
  {
   "cell_type": "code",
   "execution_count": 16,
   "id": "87659db8",
   "metadata": {},
   "outputs": [],
   "source": [
    "class Vehicle:\n",
    "    def __init__(self,Brand, Model, Color, Type=\"No-Information\", Price=\"No Info\"):\n",
    "        self.Brand = Brand\n",
    "        self.Model = Model\n",
    "        self.Color = Color\n",
    "        self.Type = Type\n",
    "        self.Price = Price"
   ]
  },
  {
   "cell_type": "code",
   "execution_count": 14,
   "id": "87909d07",
   "metadata": {},
   "outputs": [
    {
     "data": {
      "text/plain": [
       "'Hyundai'"
      ]
     },
     "execution_count": 14,
     "metadata": {},
     "output_type": "execute_result"
    }
   ],
   "source": [
    "MyVehicle = Vehicle(\"Hyundai\", \"i10 sportz\", \"StarDust\", \"Hatchback\", \"6.5L\")\n",
    "MyVehicle2 = Vehicle(\"Tata\", \"Inova\", \"Silver\", \"SUV\", \"15L\")\n",
    "MyVehicle.Brand"
   ]
  },
  {
   "cell_type": "code",
   "execution_count": 15,
   "id": "98416277",
   "metadata": {},
   "outputs": [
    {
     "data": {
      "text/plain": [
       "'Silver'"
      ]
     },
     "execution_count": 15,
     "metadata": {},
     "output_type": "execute_result"
    }
   ],
   "source": [
    "MyVehicle2.Color"
   ]
  },
  {
   "cell_type": "code",
   "execution_count": 17,
   "id": "4789cb91",
   "metadata": {},
   "outputs": [],
   "source": [
    "MyVehicle3 = Vehicle(\"Tata\", \"Inova\", \"Silver\")"
   ]
  },
  {
   "cell_type": "code",
   "execution_count": 18,
   "id": "13a4f58a",
   "metadata": {},
   "outputs": [
    {
     "data": {
      "text/plain": [
       "'Inova'"
      ]
     },
     "execution_count": 18,
     "metadata": {},
     "output_type": "execute_result"
    }
   ],
   "source": [
    "MyVehicle3.Model"
   ]
  },
  {
   "cell_type": "code",
   "execution_count": 19,
   "id": "15baf3eb",
   "metadata": {},
   "outputs": [
    {
     "data": {
      "text/plain": [
       "'No Info'"
      ]
     },
     "execution_count": 19,
     "metadata": {},
     "output_type": "execute_result"
    }
   ],
   "source": [
    "MyVehicle3.Price"
   ]
  },
  {
   "cell_type": "code",
   "execution_count": null,
   "id": "099c6a4f",
   "metadata": {},
   "outputs": [],
   "source": []
  }
 ],
 "metadata": {
  "kernelspec": {
   "display_name": "Python 3",
   "language": "python",
   "name": "python3"
  },
  "language_info": {
   "codemirror_mode": {
    "name": "ipython",
    "version": 3
   },
   "file_extension": ".py",
   "mimetype": "text/x-python",
   "name": "python",
   "nbconvert_exporter": "python",
   "pygments_lexer": "ipython3",
   "version": "3.8.8"
  }
 },
 "nbformat": 4,
 "nbformat_minor": 5
}
