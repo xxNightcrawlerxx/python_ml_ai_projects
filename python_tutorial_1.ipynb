{
 "cells": [
  {
   "cell_type": "code",
   "execution_count": 3,
   "id": "38c4b4a5",
   "metadata": {},
   "outputs": [
    {
     "name": "stdout",
     "output_type": "stream",
     "text": [
      "Enter the number: -1\n",
      "Number is negative\n"
     ]
    }
   ],
   "source": [
    "number = int(input(\"Enter the number: \"))\n",
    "if number < 0:\n",
    "    print(\"Number is negative\")\n",
    "else:\n",
    "    print(\"Number is positive\")"
   ]
  },
  {
   "cell_type": "code",
   "execution_count": 5,
   "id": "5879d24e",
   "metadata": {},
   "outputs": [
    {
     "name": "stdout",
     "output_type": "stream",
     "text": [
      "Enter first number: 4\n",
      "Enter second number: 1\n",
      "Enter third number: 3\n",
      "4  is the greatest number\n"
     ]
    }
   ],
   "source": [
    "a = int(input(\"Enter first number: \"))\n",
    "b = int(input(\"Enter second number: \"))\n",
    "c = int(input(\"Enter third number: \"))\n",
    "\n",
    "if a>b and a>c:\n",
    "    print (a,\" is the greatest number\")\n",
    "elif b>a and b>c:\n",
    "    print(b,\" is the greatest number\")\n",
    "else:\n",
    "    print(c,\" is the greatest number\")"
   ]
  },
  {
   "cell_type": "code",
   "execution_count": 7,
   "id": "6a57d9d6",
   "metadata": {},
   "outputs": [
    {
     "name": "stdout",
     "output_type": "stream",
     "text": [
      "Enter number range till which you want fibonacci series10\n",
      "0\n",
      "1\n",
      "3\n",
      "6\n",
      "10\n",
      "15\n",
      "21\n",
      "28\n",
      "36\n",
      "45\n"
     ]
    }
   ],
   "source": [
    "a = int(input(\"Enter number range till which you want fibonacci series\"))\n",
    "count = 0\n",
    "i = 0\n",
    "while i < a:\n",
    "    count = count+i\n",
    "    print(count)\n",
    "    i=i+1"
   ]
  },
  {
   "cell_type": "code",
   "execution_count": 8,
   "id": "23ac6a06",
   "metadata": {},
   "outputs": [
    {
     "name": "stdout",
     "output_type": "stream",
     "text": [
      "P\n",
      "y\n",
      "t\n",
      "h\n",
      "o\n",
      "n\n"
     ]
    }
   ],
   "source": [
    "for characters in \"Python\":\n",
    "    print(characters)"
   ]
  },
  {
   "cell_type": "code",
   "execution_count": 10,
   "id": "b52cf3e5",
   "metadata": {},
   "outputs": [
    {
     "name": "stdout",
     "output_type": "stream",
     "text": [
      "0\n",
      "1\n",
      "2\n",
      "3\n",
      "4\n",
      "5\n",
      "6\n",
      "7\n",
      "8\n",
      "9\n"
     ]
    }
   ],
   "source": [
    "number = 0\n",
    "while number < 15:\n",
    "    print(number)\n",
    "    if number == 9:\n",
    "        break\n",
    "    number += 1"
   ]
  },
  {
   "cell_type": "code",
   "execution_count": 1,
   "id": "42cb88dd",
   "metadata": {},
   "outputs": [
    {
     "name": "stdout",
     "output_type": "stream",
     "text": [
      "0\n",
      "1\n",
      "3\n",
      "4\n",
      "5\n",
      "6\n",
      "7\n",
      "8\n",
      "9\n",
      "10\n",
      "11\n",
      "12\n",
      "13\n",
      "14\n"
     ]
    }
   ],
   "source": [
    "number = 0\n",
    "while number < 15:\n",
    "    if number == 2:\n",
    "        number = number+1\n",
    "        continue\n",
    "    print(number)\n",
    "    number = number +1"
   ]
  },
  {
   "cell_type": "code",
   "execution_count": null,
   "id": "23d565df",
   "metadata": {},
   "outputs": [],
   "source": []
  }
 ],
 "metadata": {
  "kernelspec": {
   "display_name": "Python 3",
   "language": "python",
   "name": "python3"
  },
  "language_info": {
   "codemirror_mode": {
    "name": "ipython",
    "version": 3
   },
   "file_extension": ".py",
   "mimetype": "text/x-python",
   "name": "python",
   "nbconvert_exporter": "python",
   "pygments_lexer": "ipython3",
   "version": "3.8.8"
  }
 },
 "nbformat": 4,
 "nbformat_minor": 5
}
